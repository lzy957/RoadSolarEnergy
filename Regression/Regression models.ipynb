{
 "cells": [
  {
   "cell_type": "markdown",
   "metadata": {},
   "source": [
    "# 数据读取"
   ]
  },
  {
   "cell_type": "code",
   "execution_count": 2,
   "metadata": {},
   "outputs": [
    {
     "name": "stdout",
     "output_type": "stream",
     "text": [
      "ALi\n",
      "77\n",
      "BaiShan\n",
      "(172, 23)\n",
      "BeiJing\n",
      "(10806, 23)\n",
      "ChengDu\n",
      "(2823, 23)\n",
      "ChongQing\n",
      "(2122, 23)\n",
      "FangChengGang\n",
      "(384, 23)\n",
      "GuangZhou\n",
      "(3371, 23)\n",
      "HaErBin\n",
      "(4278, 23)\n",
      "HaiKou\n",
      "(879, 23)\n",
      "HeZhou\n",
      "(306, 23)\n",
      "JiLin\n",
      "(621, 23)\n",
      "JiuQuan\n",
      "(2456, 23)\n",
      "LaSa\n",
      "(1921, 23)\n",
      "LinYi\n",
      "(1798, 23)\n",
      "MuDanJiang\n",
      "(254, 23)\n",
      "NuJiangZhou\n",
      "(110, 23)\n",
      "QiQiHaEr\n",
      "(669, 23)\n",
      "ShangHai\n",
      "(7514, 23)\n",
      "ShenZhen\n",
      "(2208, 23)\n",
      "TianMen\n",
      "(358, 23)\n",
      "TuLuFan\n",
      "(273, 23)\n",
      "WuHan\n",
      "(3646, 23)\n",
      "XiAn\n",
      "(1850, 23)\n",
      "YaAn\n",
      "(332, 23)\n",
      "YuLin\n",
      "(964, 23)\n",
      "ZhanJiang\n",
      "(950, 23)\n",
      "ZhaoTong\n",
      "(410, 23)\n",
      "<class 'pandas.core.frame.DataFrame'>\n",
      "RangeIndex: 51552 entries, 0 to 51551\n",
      "Data columns (total 23 columns):\n",
      " #   Column        Non-Null Count  Dtype  \n",
      "---  ------        --------------  -----  \n",
      " 0   Unnamed: 0    51552 non-null  int64  \n",
      " 1   ID            51552 non-null  int64  \n",
      " 2   PV17_weigh    51552 non-null  float64\n",
      " 3   DEM_MEAN      51552 non-null  float64\n",
      " 4   NDBI_MEAN     51552 non-null  float64\n",
      " 5   NDVI_MEAN     51552 non-null  float64\n",
      " 6   Slope_MEAN    51552 non-null  float64\n",
      " 7   Road_Density  51552 non-null  float64\n",
      " 8   Area_sum      51552 non-null  float64\n",
      " 9   Width_mean    51552 non-null  float64\n",
      " 10  Compass_maxl  51552 non-null  float64\n",
      " 11  EorS          51552 non-null  float64\n",
      " 12  RfClass_num   51552 non-null  float64\n",
      " 13  CompassA      51552 non-null  float64\n",
      " 14  xCentroid     51552 non-null  float64\n",
      " 15  yCentroid     51552 non-null  float64\n",
      " 16  cloudy        51552 non-null  float64\n",
      " 17  GDP           51552 non-null  float64\n",
      " 18  population    51552 non-null  float64\n",
      " 19  Urban         51552 non-null  float64\n",
      " 20  firstin       51552 non-null  float64\n",
      " 21  secondin      51552 non-null  float64\n",
      " 22  vehicle       51552 non-null  float64\n",
      "dtypes: float64(21), int64(2)\n",
      "memory usage: 9.0 MB\n",
      "(51552, 23)\n"
     ]
    }
   ],
   "source": [
    "import numpy as np\n",
    "import pandas as pd\n",
    "from sklearn.model_selection import KFold,train_test_split \n",
    "import os\n",
    "df = []\n",
    "count = 0\n",
    "get_dir = os.listdir(\"./\")  \n",
    "database = pd.read_csv(\"/datadrive/lzy/Data/BaseData.csv\")\n",
    "for i in range(0,27):\n",
    "    cityname = database.iloc[i,0]\n",
    "    print(cityname)\n",
    "    count += 1\n",
    "    if count > 1:\n",
    "        dfx = pd.read_excel(cityname+\"_Tableurban1.xlsx\")\n",
    "        print(dfx.shape)\n",
    "        df = df.append(dfx,ignore_index=True)\n",
    "    else:\n",
    "        df = pd.read_excel(cityname+\"_Tableurban1.xlsx\")\n",
    "        print(len(df))\n",
    "df.fillna(0,inplace=True)\n",
    "df.info()\n",
    "df.head()#看前五行\n",
    "#print(df)\n",
    "print(df.shape)"
   ]
  },
  {
   "cell_type": "code",
   "execution_count": 3,
   "metadata": {},
   "outputs": [
    {
     "name": "stdout",
     "output_type": "stream",
     "text": [
      "<class 'pandas.core.frame.DataFrame'>\n",
      "RangeIndex: 51552 entries, 0 to 51551\n",
      "Data columns (total 14 columns):\n",
      " #   Column        Non-Null Count  Dtype  \n",
      "---  ------        --------------  -----  \n",
      " 0   ones          51552 non-null  float64\n",
      " 1   yCentroid     51552 non-null  float64\n",
      " 2   Road_Density  51552 non-null  float64\n",
      " 3   cloudy        51552 non-null  float64\n",
      " 4   RfClass_num   51552 non-null  float64\n",
      " 5   EorS          51552 non-null  float64\n",
      " 6   DEM_MEAN      51552 non-null  float64\n",
      " 7   NDBI_MEAN     51552 non-null  float64\n",
      " 8   NDVI_MEAN     51552 non-null  float64\n",
      " 9   Slope_MEAN    51552 non-null  float64\n",
      " 10  GDP           51552 non-null  float64\n",
      " 11  population    51552 non-null  float64\n",
      " 12  secondin      51552 non-null  float64\n",
      " 13  vehicle       51552 non-null  float64\n",
      "dtypes: float64(14)\n",
      "memory usage: 5.5 MB\n",
      "(51552, 14) <class 'pandas.core.frame.DataFrame'>\n",
      "(51552,) <class 'numpy.ndarray'>\n",
      "[     0.            0.            0.       ... 247622.466856      0.\n",
      "      0.      ]\n"
     ]
    }
   ],
   "source": [
    "test_df = df.iloc[:,[1,15,7,16,12,11,3,4,5,6,17,18,21,22,2]]\n",
    "def normalize_feature(df):\n",
    "#     \"\"\"Applies function along input axis(default 0) of DataFrame.\"\"\"\n",
    "    return df.apply(lambda column: (column - column.mean()) / column.std()+2)#特征缩放\n",
    "\n",
    "def get_X(df):#读取特征\n",
    "#     \"\"\"\n",
    "#     use concat to add intersect feature to avoid side effect\n",
    "#     not efficient for big dataset though\n",
    "#     \"\"\"\n",
    "    #data = pd.concat([ones, df], axis=1)  # 合并数据，根据列合并\n",
    "    ones = pd.DataFrame({'ones': np.ones(len(df))})#ones是m行1列的dataframe\n",
    "    data = pd.concat([ones,df.iloc[:,1:-1]],axis=1)\n",
    "    return data\n",
    "\n",
    "\n",
    "def get_y(df):#读取标签\n",
    "#     '''assume the last column is the target'''\n",
    "\n",
    "    return np.array(df.iloc[:, -1])#df.iloc[:, -1]是指df的最后一列\n",
    "\n",
    "X = get_X(test_df)\n",
    "X.info()\n",
    "print(X.shape, type(X))\n",
    "# print(X)\n",
    "\n",
    "y = get_y(test_df)\n",
    "print(y.shape, type(y))\n",
    "print(y)\n",
    "#看下数据维度"
   ]
  },
  {
   "cell_type": "markdown",
   "metadata": {},
   "source": [
    "# 数据归一化"
   ]
  },
  {
   "cell_type": "code",
   "execution_count": 4,
   "metadata": {},
   "outputs": [
    {
     "name": "stdout",
     "output_type": "stream",
     "text": [
      "(36086, 14) (36086,)\n",
      "(15466, 14) (15466,)\n",
      "(51552, 14) <class 'pandas.core.frame.DataFrame'>\n",
      "(51552,) <class 'numpy.ndarray'>\n",
      "[[0.        ]\n",
      " [0.        ]\n",
      " [0.        ]\n",
      " ...\n",
      " [0.18268578]\n",
      " [0.        ]\n",
      " [0.        ]]\n",
      "[[1.08993921]\n",
      " [0.        ]\n",
      " [0.15029928]\n",
      " ...\n",
      " [0.38511792]\n",
      " [0.97937477]\n",
      " [2.04444635]] [[0.        ]\n",
      " [0.        ]\n",
      " [2.18915026]\n",
      " ...\n",
      " [0.        ]\n",
      " [2.1318104 ]\n",
      " [0.33346063]]\n"
     ]
    }
   ],
   "source": [
    "X_train, X_test, y_train, y_test = train_test_split( X, y, test_size=0.3, random_state=0)\n",
    "print(X_train.shape, y_train.shape)\n",
    "print(X_test.shape, y_test.shape)\n",
    "\n",
    "from sklearn.preprocessing import StandardScaler\n",
    "from sklearn.preprocessing import MinMaxScaler\n",
    "std_X = MinMaxScaler((0,10))\n",
    "std_y = y.reshape(-1,1)\n",
    "std_y = MinMaxScaler((0,10))\n",
    "\n",
    "X_std = std_X.fit_transform(X)\n",
    "y_std = std_y.fit_transform(y.reshape(-1,1))\n",
    "X_train = std_X.fit_transform(X_train)\n",
    "X_test = std_X.transform(X_test)\n",
    "y_train = std_y.fit_transform(y_train.reshape(-1,1))\n",
    "y_test = std_y.transform(y_test.reshape(-1,1))\n",
    "print(X.shape, type(X))\n",
    "print(y.shape, type(y))\n",
    "print(y_std)\n",
    "print(y_test,y_train)\n",
    "# print(X_train,X_test)\n",
    "# y_train.astype('int')"
   ]
  },
  {
   "cell_type": "markdown",
   "metadata": {},
   "source": [
    "# 偏最小二乘法"
   ]
  },
  {
   "cell_type": "code",
   "execution_count": 78,
   "metadata": {},
   "outputs": [
    {
     "name": "stderr",
     "output_type": "stream",
     "text": [
      "/home/ziyu/anaconda3/lib/python3.6/site-packages/sklearn/cross_decomposition/_pls.py:353: UserWarning: X scores are null at iteration 13\n",
      "  warnings.warn('X scores are null at iteration %s' % k)\n"
     ]
    },
    {
     "name": "stdout",
     "output_type": "stream",
     "text": [
      "[0.49248294875239607, 0.4474597677348011, 0.4042405257944071, 0.38851180629027365, 0.38929904646320823, 0.390601012140917, 0.39008629021433844, 0.38909011305150015, 0.389557409083347, 0.390025223345801, 0.39020448802393115, 0.3901878929479122, 0.3901861320772449, 0.3901861320772449] [0.4939049344379788, 0.5739048371054576, 0.6143909804480722, 0.6196985595242386, 0.6213143836174969, 0.6215454975494719, 0.6216742673498974, 0.6218045365189853, 0.6218962113992149, 0.6220585040578978, 0.622102254869912, 0.6221225731727471, 0.6221163012931179, 0.6221163012931179] [0.49395486434925706, 0.5739346952170922, 0.6144318464249093, 0.6197425054024375, 0.6213625929488524, 0.6215938523507116, 0.6217238844955335, 0.6218516705282575, 0.6219419797079027, 0.622104636595604, 0.6221475938535989, 0.6221677490392292, 0.6221613769373032, 0.6221613769373032] [0.4826348999464169, 0.40634341313501254, 0.3677340152747909, 0.3626724703780063, 0.3611315482219788, 0.36091114763516197, 0.3607883469916199, 0.36066411648303165, 0.3605766912152153, 0.36042192167404535, 0.36038019894206086, 0.3603608224993267, 0.3603668036443789, 0.3603668036443789]\n",
      "[[ 0.00000000e+00]\n",
      " [ 6.83013371e-04]\n",
      " [ 7.80815043e-01]\n",
      " [-4.25711847e-02]\n",
      " [-1.08520874e-02]\n",
      " [ 9.98306975e-03]\n",
      " [ 5.89150308e-02]\n",
      " [ 1.51008300e-03]\n",
      " [-1.77259281e-02]\n",
      " [-7.72598461e-02]\n",
      " [ 7.24657252e-02]\n",
      " [-1.44474065e-01]\n",
      " [ 9.07813737e-03]\n",
      " [ 9.02900446e-02]]\n",
      "[0.63533635 0.62845514 0.64725288 0.64183474 0.6301696  0.66885422\n",
      " 0.64175769 0.62773978 0.63835167 0.62924811]\n",
      "Accuracy: 0.64 (+/- 0.02)\n"
     ]
    },
    {
     "data": {
      "text/plain": [
       "[<matplotlib.lines.Line2D at 0x7f20310c46d8>]"
      ]
     },
     "execution_count": 78,
     "metadata": {},
     "output_type": "execute_result"
    },
    {
     "data": {
      "image/png": "[encoded data removed]",
      "text/plain": [
       "<Figure size 864x864 with 4 Axes>"
      ]
     },
     "metadata": {
      "needs_background": "light"
     },
     "output_type": "display_data"
    }
   ],
   "source": [
    "import matplotlib.pyplot as plt\n",
    "from sklearn.metrics import mean_absolute_error\n",
    "from sklearn.metrics import precision_score # not for continous data\n",
    "from sklearn.cross_decomposition import PLSRegression\n",
    "from sklearn.metrics import r2_score\n",
    "from sklearn.metrics import explained_variance_score\n",
    "from sklearn.metrics import mean_squared_error\n",
    "import numpy as np\n",
    "from sklearn.model_selection import cross_val_score\n",
    "\n",
    "MAE=[]\n",
    "R2=[]\n",
    "EVS =[]\n",
    "MSE=[]\n",
    "for i in range(14):\n",
    "    pls2 = PLSRegression(n_components=i+1)\n",
    "    pls2.fit(X_train, y_train)\n",
    "    Y_pred = pls2.predict(X_test)\n",
    "    mae = mean_absolute_error(y_test, Y_pred)\n",
    "    evs = explained_variance_score(y_test, Y_pred)\n",
    "    mse = mean_squared_error(y_test, Y_pred)\n",
    "#     print(pls2.y_scores_)\n",
    "#     print(Y_pred)\n",
    "#     print(y_test)\n",
    "    r2 = r2_score(y_test,Y_pred);\n",
    "    MAE.append(mae)\n",
    "    R2.append(r2)\n",
    "    EVS.append(evs)\n",
    "    MSE.append(mse)\n",
    "print(MAE,R2,EVS,MSE)\n",
    "print(pls2.coef_)\n",
    "a = pls2.get_params()\n",
    "#交叉验证\n",
    "pls2 = PLSRegression(n_components=12)\n",
    "scores = cross_val_score(pls2, X_train, y_train, cv=10)\n",
    "# scores = cross_val_score(pls2, X_std, y_std, cv=10)\n",
    "print(scores)\n",
    "print(\"Accuracy: %0.2f (+/- %0.2f)\" % (scores.mean(), scores.std() * 2))\n",
    "# print(a)\n",
    "fig, ax = plt.subplots(2,2,figsize=(12,12))\n",
    "ax[0,0].plot(np.arange(1, (i+2)), np.array(MAE), '-v')\n",
    "ax[0,1].plot(np.arange(1, (i+2)), np.array(R2), '-o')\n",
    "ax[1,0].plot(np.arange(1, (i+2)), np.array(EVS), '-x')\n",
    "ax[1,1].plot(np.arange(1, (i+2)), np.array(MSE), '-o')\n",
    "#     fig = plt.figure(num=1, figsize=(15, 8))\n",
    "#     plt.plot(Y_pred,'.')\n",
    "#     plt.plot(y_test,'.',color = 'r')"
   ]
  },
  {
   "cell_type": "markdown",
   "metadata": {},
   "source": [
    "# 线性回归"
   ]
  },
  {
   "cell_type": "code",
   "execution_count": 39,
   "metadata": {},
   "outputs": [
    {
     "name": "stdout",
     "output_type": "stream",
     "text": [
      "[[ 0.00000000e+00  4.57469820e-04  7.99719327e-01 -1.76426891e-02\n",
      "  -6.36665838e-03  2.24764808e-03  3.76925619e-02  2.04995663e-03\n",
      "  -1.48488733e-02 -5.78001190e-02  1.91342555e-02 -5.32365857e-02\n",
      "   5.43074880e-03  2.81886889e-02]]\n",
      "[0.60567505 0.65233809 0.64243022 0.55299579 0.69801954 0.54268587\n",
      " 0.62286457 0.60938886 0.64671938 0.58862436]\n",
      "Accuracy: 0.62 (+/- 0.09)\n"
     ]
    }
   ],
   "source": [
    "import matplotlib.pyplot as plt\n",
    "from sklearn.metrics import mean_absolute_error\n",
    "from sklearn.metrics import precision_score # not for continous data\n",
    "from sklearn.metrics import r2_score\n",
    "from sklearn import linear_model\n",
    "from sklearn.metrics import explained_variance_score\n",
    "from sklearn.metrics import mean_squared_error\n",
    "import numpy as np\n",
    "from sklearn.model_selection import cross_val_score\n",
    "from sklearn.metrics import accuracy_score\n",
    "MAE=[]\n",
    "R2=[]\n",
    "EVS =[]\n",
    "MSE=[]\n",
    "\n",
    "lr = linear_model.LinearRegression()\n",
    "lr.fit(X_train, y_train)\n",
    "Y_pred = lr.predict(X_test)\n",
    "mae = mean_absolute_error(y_test, Y_pred)\n",
    "evs = explained_variance_score(y_test, Y_pred)\n",
    "mse = mean_squared_error(y_test, Y_pred)\n",
    "#     print(pls2.y_scores_)\n",
    "#     print(Y_pred)\n",
    "#     print(y_test)\n",
    "r2 = r2_score(y_test,Y_pred);\n",
    "MAE.append(mae)\n",
    "R2.append(r2)\n",
    "EVS.append(evs)\n",
    "MSE.append(mse)\n",
    "# print(MAE,R2,EVS,MSE)\n",
    "print(lr.coef_)\n",
    "a = lr.get_params()\n",
    "#交叉验证\n",
    "scores = cross_val_score(lr, X_std, y_std, cv=10)\n",
    "print(scores)\n",
    "print(\"Accuracy: %0.2f (+/- %0.2f)\" % (scores.mean(), scores.std() * 2))\n"
   ]
  },
  {
   "cell_type": "code",
   "execution_count": 65,
   "metadata": {},
   "outputs": [
    {
     "name": "stdout",
     "output_type": "stream",
     "text": [
      "残差平方和: 0.35\n",
      "R-squared: 0.62\n"
     ]
    }
   ],
   "source": [
    "print('残差平方和: %.2f' % np.mean((lr.predict(X_std) - y_std) ** 2))\n",
    "print('R-squared: %.2f' % lr.score(X_test, y_test))"
   ]
  },
  {
   "cell_type": "markdown",
   "metadata": {},
   "source": [
    "# "
   ]
  },
  {
   "cell_type": "code",
   "execution_count": 80,
   "metadata": {},
   "outputs": [
    {
     "name": "stdout",
     "output_type": "stream",
     "text": [
      "[[0.         6.45027967 0.56833555 ... 7.76286023 3.79015062 6.72727273]\n",
      " [0.         6.33628263 1.44629962 ... 3.5630736  5.40958141 4.75731895]\n",
      " [0.         8.20242507 1.4830764  ... 6.88063961 2.0217982  9.02696456]\n",
      " ...\n",
      " [0.         4.67562946 0.         ... 4.2786447  5.74630546 5.28890601]\n",
      " [0.         6.28178902 1.02657484 ... 3.5630736  5.40958141 4.75731895]\n",
      " [0.         8.28225513 0.34870828 ... 6.88063961 2.0217982  9.02696456]]\n",
      "[[ 1.          0.          6.45027967 ... 14.3652417  25.49737687\n",
      "  45.25619835]\n",
      " [ 1.          0.          6.33628263 ... 29.263571   25.73510415\n",
      "  22.63208361]\n",
      " [ 1.          0.          8.20242507 ...  4.08766794 18.25070066\n",
      "  81.48608918]\n",
      " ...\n",
      " [ 1.          0.          4.67562946 ... 33.02002642 30.39166947\n",
      "  27.97252677]\n",
      " [ 1.          0.          6.28178902 ... 29.263571   25.73510415\n",
      "  22.63208361]\n",
      " [ 1.          0.          8.28225513 ...  4.08766794 18.25070066\n",
      "  81.48608918]]\n",
      "[[0.         6.35790322 0.65115411 ... 5.28837502 4.41603932 8.8174114 ]\n",
      " [0.         4.81433206 0.         ... 4.87833877 3.84264217 4.24268105]\n",
      " [0.         8.34607385 0.10366292 ... 6.88063961 2.0217982  9.02696456]\n",
      " ...\n",
      " [0.         8.28509778 0.81450318 ... 6.88063961 2.0217982  9.02696456]\n",
      " [0.         8.21100008 0.35725131 ... 6.88063961 2.0217982  9.02696456]\n",
      " [0.         6.33870843 2.00233256 ... 5.28837502 4.41603932 8.8174114 ]]\n",
      "[[ 1.          0.          6.35790322 ... 19.50140331 38.93803549\n",
      "  77.74674383]\n",
      " [ 1.          0.          4.81433206 ... 14.76589883 16.3031051\n",
      "  18.00034247]\n",
      " [ 1.          0.          8.34607385 ...  4.08766794 18.25070066\n",
      "  81.48608918]\n",
      " ...\n",
      " [ 1.          0.          8.28509778 ...  4.08766794 18.25070066\n",
      "  81.48608918]\n",
      " [ 1.          0.          8.21100008 ...  4.08766794 18.25070066\n",
      "  81.48608918]\n",
      " [ 1.          0.          6.33870843 ... 19.50140331 38.93803549\n",
      "  77.74674383]]\n",
      "1 r-squared 0.622116301293118\n",
      "2 r-squared 0.6694539537953352 mae 0.3576315311548322 evs 0.6694753003837715 mse 579147492586.8348\n",
      "3 r-squared 0.6788212482391456\n",
      "4 r-squared 0.6788212482391456\n"
     ]
    }
   ],
   "source": [
    "from sklearn.preprocessing import PolynomialFeatures\n",
    "\n",
    "quadratic_featurizer = PolynomialFeatures(degree=2)\n",
    "X_train_quadratic = quadratic_featurizer.fit_transform(X_train)\n",
    "X_test_quadratic = quadratic_featurizer.transform(X_test)\n",
    "regressor_quadratic = linear_model.LinearRegression()\n",
    "regressor_quadratic.fit(X_train_quadratic, y_train)\n",
    "Y_pred_quadratic = regressor_quadratic.predict(X_test_quadratic)\n",
    "mae_quad = mean_absolute_error(y_test, Y_pred_quadratic)\n",
    "evs_quad = explained_variance_score(y_test, Y_pred_quadratic)\n",
    "mse_quad = mean_squared_error(std_y.inverse_transform(y_test), std_y.inverse_transform(Y_pred_quadratic))\n",
    "# xx_quadratic = quadratic_featurizer.transform(xx.reshape(xx.shape[0], 1))\n",
    "# plt.plot(xx, regressor_quadratic.predict(xx_quadratic), 'r-')\n",
    "# plt.show()\n",
    "print(X_train)\n",
    "print(X_train_quadratic)\n",
    "print(X_test)\n",
    "print(X_test_quadratic)\n",
    "\n",
    "cubic_featurizer = PolynomialFeatures(degree=3)\n",
    "X_train_cubic = cubic_featurizer.fit_transform(X_train)\n",
    "X_test_cubic = cubic_featurizer.transform(X_test)\n",
    "regressor_cubic = linear_model.LinearRegression()\n",
    "regressor_cubic.fit(X_train_cubic, y_train)\n",
    "# xx_cubic = cubic_featurizer.transform(xx.reshape(xx.shape[0], 1))\n",
    "# plt.plot(xx, regressor_cubic.predict(xx_cubic))\n",
    "# plt.show()\n",
    "# print(X_train_cubic)\n",
    "# print(X_test_cubic)\n",
    "\n",
    "quater_featurizer = PolynomialFeatures(degree=3)\n",
    "X_train_fourth = quater_featurizer.fit_transform(X_train)\n",
    "X_test_fourth = quater_featurizer.transform(X_test)\n",
    "regressor_fourth = linear_model.LinearRegression()\n",
    "regressor_fourth.fit(X_train_fourth, y_train)\n",
    "\n",
    "\n",
    "print('1 r-squared', lr.score(X_test, y_test))\n",
    "print('2 r-squared', regressor_quadratic.score(X_test_quadratic, y_test),'mae',mae_quad,'evs',evs_quad,'mse',mse_quad)\n",
    "print('3 r-squared', regressor_cubic.score(X_test_cubic, y_test))\n",
    "print('4 r-squared', regressor_cubic.score(X_test_cubic, y_test))"
   ]
  },
  {
   "cell_type": "markdown",
   "metadata": {},
   "source": [
    "# 多项式回归"
   ]
  },
  {
   "cell_type": "code",
   "execution_count": 74,
   "metadata": {},
   "outputs": [
    {
     "name": "stdout",
     "output_type": "stream",
     "text": [
      "[0.67671531 0.69224307 0.57402268 0.67192646 0.66487905 0.71216268\n",
      " 0.68742473 0.68793632 0.17073581 0.68381397]\n",
      "3 r-squared Accuracy: 0.62 (+/- 0.31)\n",
      "[0.67264375 0.67456071 0.66952918 0.67227425 0.66965242 0.70754293\n",
      " 0.64426565 0.68289795 0.68793579 0.66381843]\n",
      "2 r-squared Accuracy: 0.67 (+/- 0.03)\n",
      "[0.63532894 0.62844076 0.64726775 0.64182889 0.63018066 0.66886952\n",
      " 0.64176269 0.62772632 0.63834573 0.6292528 ]\n",
      "lr Accuracy: 0.64 (+/- 0.02)\n"
     ]
    }
   ],
   "source": [
    "#交叉验证\n",
    "# ascore = accuracy_score()\n",
    "scores = cross_val_score(regressor_cubic, X_train_cubic, y_train, cv=10)\n",
    "print(scores)\n",
    "print(\"3 r-squared Accuracy: %0.2f (+/- %0.2f)\" % (scores.mean(), scores.std() * 2))\n",
    "\n",
    "scores = cross_val_score(regressor_quadratic, X_train_quadratic, y_train, cv=10)\n",
    "print(scores)\n",
    "print(\"2 r-squared Accuracy: %0.2f (+/- %0.2f)\" % (scores.mean(), scores.std() * 2))\n",
    "\n",
    "scores = cross_val_score(lr, X_train, y_train, cv=10)\n",
    "print(scores)\n",
    "print(\"lr Accuracy: %0.2f (+/- %0.2f)\" % (scores.mean(), scores.std() * 2))"
   ]
  },
  {
   "cell_type": "markdown",
   "metadata": {},
   "source": [
    "# Stochastic Gradient Descent 随机梯度下降"
   ]
  },
  {
   "cell_type": "code",
   "execution_count": 77,
   "metadata": {},
   "outputs": [
    {
     "name": "stderr",
     "output_type": "stream",
     "text": [
      "/home/ziyu/anaconda3/lib/python3.6/site-packages/sklearn/utils/validation.py:72: DataConversionWarning: A column-vector y was passed when a 1d array was expected. Please change the shape of y to (n_samples, ), for example using ravel().\n",
      "  return f(**kwargs)\n",
      "/home/ziyu/anaconda3/lib/python3.6/site-packages/sklearn/utils/validation.py:72: DataConversionWarning: A column-vector y was passed when a 1d array was expected. Please change the shape of y to (n_samples, ), for example using ravel().\n",
      "  return f(**kwargs)\n",
      "/home/ziyu/anaconda3/lib/python3.6/site-packages/sklearn/utils/validation.py:72: DataConversionWarning: A column-vector y was passed when a 1d array was expected. Please change the shape of y to (n_samples, ), for example using ravel().\n",
      "  return f(**kwargs)\n",
      "/home/ziyu/anaconda3/lib/python3.6/site-packages/sklearn/utils/validation.py:72: DataConversionWarning: A column-vector y was passed when a 1d array was expected. Please change the shape of y to (n_samples, ), for example using ravel().\n",
      "  return f(**kwargs)\n",
      "/home/ziyu/anaconda3/lib/python3.6/site-packages/sklearn/utils/validation.py:72: DataConversionWarning: A column-vector y was passed when a 1d array was expected. Please change the shape of y to (n_samples, ), for example using ravel().\n",
      "  return f(**kwargs)\n",
      "/home/ziyu/anaconda3/lib/python3.6/site-packages/sklearn/utils/validation.py:72: DataConversionWarning: A column-vector y was passed when a 1d array was expected. Please change the shape of y to (n_samples, ), for example using ravel().\n",
      "  return f(**kwargs)\n"
     ]
    },
    {
     "name": "stdout",
     "output_type": "stream",
     "text": [
      "cv R [0.6033019  0.64082909 0.63628469 0.61559536 0.62331283]\n",
      "mean of cv R 0.6238647737062766\n",
      "Test set R 0.5990369209985884\n",
      "SGD Accuracy: 0.624 (+/- 0.027)\n"
     ]
    }
   ],
   "source": [
    "from sklearn.linear_model import SGDRegressor\n",
    "regressor = SGDRegressor(loss='squared_loss',penalty=\"l1\")\n",
    "scores = cross_val_score(regressor, X_train, y_train.reshape(-1, 1), cv=5)\n",
    "print('cv R', scores)\n",
    "print('mean of cv R', np.mean(scores))\n",
    "regressor.fit(X_train, y_train)\n",
    "print('Test set R', regressor.score(X_test, y_test))\n",
    "print(\"SGD Accuracy: %0.3f (+/- %0.3f)\" % (scores.mean(), scores.std() * 2))"
   ]
  },
  {
   "cell_type": "code",
   "execution_count": null,
   "metadata": {},
   "outputs": [],
   "source": []
  }
 ],
 "metadata": {
  "kernelspec": {
   "display_name": "Python 3",
   "language": "python",
   "name": "python3"
  },
  "language_info": {
   "codemirror_mode": {
    "name": "ipython",
    "version": 3
   },
   "file_extension": ".py",
   "mimetype": "text/x-python",
   "name": "python",
   "nbconvert_exporter": "python",
   "pygments_lexer": "ipython3",
   "version": "3.6.12"
  }
 },
 "nbformat": 4,
 "nbformat_minor": 4
}
